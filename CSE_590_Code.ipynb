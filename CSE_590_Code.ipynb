{
  "cells": [
    {
      "cell_type": "markdown",
      "source": [
        "# Imports"
      ],
      "metadata": {
        "id": "M75tMmVLNx0i"
      }
    },
    {
      "cell_type": "code",
      "execution_count": null,
      "metadata": {
        "id": "zwFnJsE6vjf8",
        "colab": {
          "base_uri": "https://localhost:8080/"
        },
        "outputId": "5e98f320-a5cb-42bc-fc56-cf42e9a04b02"
      },
      "outputs": [
        {
          "output_type": "stream",
          "name": "stdout",
          "text": [
            "True\n"
          ]
        },
        {
          "output_type": "stream",
          "name": "stderr",
          "text": [
            "/usr/local/lib/python3.10/dist-packages/torch/__init__.py:696: UserWarning: torch.set_default_tensor_type() is deprecated as of PyTorch 2.1, please use torch.set_default_dtype() and torch.set_default_device() as alternatives. (Triggered internally at ../torch/csrc/tensor/python_tensor.cpp:451.)\n",
            "  _C._set_default_tensor_type(t)\n"
          ]
        }
      ],
      "source": [
        "import cv2\n",
        "import numpy as np\n",
        "import math\n",
        "import random\n",
        "\n",
        "import torch\n",
        "import torchvision\n",
        "import torch.nn as nn\n",
        "import torch.autograd as autograd\n",
        "import torch.optim as optim\n",
        "import torch.nn.functional as F\n",
        "import torchvision.models as models\n",
        "from torchvision import transforms, datasets\n",
        "\n",
        "import matplotlib.pyplot as plt\n",
        "\n",
        "device = torch.device('cuda' if torch.cuda.is_available() else \"cpu\")\n",
        "print(torch.cuda.is_available())\n",
        "if torch.cuda.is_available():\n",
        "  torch.set_default_tensor_type('torch.cuda.FloatTensor')"
      ]
    },
    {
      "cell_type": "markdown",
      "source": [
        "##MNIST Dataset"
      ],
      "metadata": {
        "id": "9UMpN3AQPYSX"
      }
    },
    {
      "cell_type": "code",
      "source": [
        "train = datasets.MNIST(\"\", train = True, download=True, transform= transforms.Compose([transforms.ToTensor()]))\n",
        "test = datasets.MNIST(\"\", train = False, download=True, transform= transforms.Compose([transforms.ToTensor()]))\n",
        "trainData = torch.utils.data.DataLoader(train, batch_size=10, shuffle=True)\n",
        "testData = torch.utils.data.DataLoader(test, batch_size=10, shuffle=True)"
      ],
      "metadata": {
        "id": "abIcbDaAPacE"
      },
      "execution_count": null,
      "outputs": []
    },
    {
      "cell_type": "markdown",
      "source": [
        "##CIFAR10 Dataset"
      ],
      "metadata": {
        "id": "MCs4jeuGO1FC"
      }
    },
    {
      "cell_type": "code",
      "source": [
        "trainCIFAR = datasets.CIFAR10(\"\", train = True, download=True, transform= transforms.Compose([transforms.ToTensor()]))\n",
        "testCIFAR = datasets.CIFAR10(\"\", train = False, download=True, transform= transforms.Compose([transforms.ToTensor()]))"
      ],
      "metadata": {
        "id": "XBD_wAC9O0px"
      },
      "execution_count": null,
      "outputs": []
    },
    {
      "cell_type": "markdown",
      "source": [
        "#Legacy (Can remove)"
      ],
      "metadata": {
        "id": "dZGWcgHiOste"
      }
    },
    {
      "cell_type": "markdown",
      "source": [
        "##CNN Class"
      ],
      "metadata": {
        "id": "cjmeY717PFfg"
      }
    },
    {
      "cell_type": "code",
      "source": [
        "class CNN(nn.Module):\n",
        "  def __init__(self):\n",
        "    super(CNN, self).__init__()\n",
        "    #the convolution layers\n",
        "    self.conv1 = nn.Conv2d(1, 32, 5)\n",
        "    self.conv2 = nn.Conv2d(32, 64, 5)\n",
        "    #the init to determine shape between convolution and fully connected\n",
        "    x = torch.randn(28, 28).view(-1, 1, 28, 28)\n",
        "    self.toLin = None\n",
        "    self.convs(x) # a trick to flatten out to linear layer\n",
        "    #The fully connected layer\n",
        "    self.fc1 = nn.Linear(self.toLin, 256)\n",
        "    self.fc2 = nn.Linear(256, 10)\n",
        "\n",
        "\n",
        "    #some useful things\n",
        "    self.softMax = nn.Softmax(dim=1)\n",
        "\n",
        "  def convs (self, x):\n",
        "    x = F.max_pool2d(F.relu(self.conv1(x)), kernel_size=2,stride=2)\n",
        "    x = F.max_pool2d(F.relu(self.conv2(x)), kernel_size=2,stride=2)\n",
        "    if self.toLin is None:\n",
        "      self.toLin = x[0].shape[0]*x[0].shape[1]*x[0].shape[2]\n",
        "    return x\n",
        "\n",
        "  def forward(self, x):\n",
        "    x = self.convs(x)\n",
        "    x = x.reshape(-1, self.toLin)\n",
        "    x = F.relu(self.fc1(x))\n",
        "    x = self.fc2(x)\n",
        "    return self.softMax(x)\n",
        "\n",
        "\n",
        "## Test Code\n",
        "# temp = CNN()\n",
        "# state = torch.randn(28, 28).view(-1, 1, 28, 28)\n",
        "# stateTensor = torch.FloatTensor(state)\n",
        "# test = temp(stateTensor.view(-1, 1, 28, 28))\n",
        "# print(test)\n",
        "\n"
      ],
      "metadata": {
        "id": "_Mc9B_YUOK2-"
      },
      "execution_count": null,
      "outputs": []
    },
    {
      "cell_type": "code",
      "source": [
        "CNN = CNN()"
      ],
      "metadata": {
        "id": "5AYFY9liRSVQ"
      },
      "execution_count": null,
      "outputs": []
    },
    {
      "cell_type": "code",
      "source": [
        "torch.save(CNN.state_dict(), \"CNN.pth\")"
      ],
      "metadata": {
        "id": "sclGYhpCItcf"
      },
      "execution_count": null,
      "outputs": []
    },
    {
      "cell_type": "code",
      "source": [
        "# CNN = CNN()\n",
        "CNN.load_state_dict(torch.load(\"CNN.pth\"))"
      ],
      "metadata": {
        "colab": {
          "base_uri": "https://localhost:8080/",
          "height": 304
        },
        "id": "OzeX3hWXI22R",
        "outputId": "5ea57c10-72e1-4531-af0d-8c95d8bccc1c"
      },
      "execution_count": null,
      "outputs": [
        {
          "output_type": "error",
          "ename": "FileNotFoundError",
          "evalue": "[Errno 2] No such file or directory: 'CNN.pth'",
          "traceback": [
            "\u001b[0;31m---------------------------------------------------------------------------\u001b[0m",
            "\u001b[0;31mFileNotFoundError\u001b[0m                         Traceback (most recent call last)",
            "\u001b[0;32m<ipython-input-6-82aa1be01f02>\u001b[0m in \u001b[0;36m<cell line: 2>\u001b[0;34m()\u001b[0m\n\u001b[1;32m      1\u001b[0m \u001b[0;31m# CNN = CNN()\u001b[0m\u001b[0;34m\u001b[0m\u001b[0;34m\u001b[0m\u001b[0m\n\u001b[0;32m----> 2\u001b[0;31m \u001b[0mCNN\u001b[0m\u001b[0;34m.\u001b[0m\u001b[0mload_state_dict\u001b[0m\u001b[0;34m(\u001b[0m\u001b[0mtorch\u001b[0m\u001b[0;34m.\u001b[0m\u001b[0mload\u001b[0m\u001b[0;34m(\u001b[0m\u001b[0;34m\"CNN.pth\"\u001b[0m\u001b[0;34m)\u001b[0m\u001b[0;34m)\u001b[0m\u001b[0;34m\u001b[0m\u001b[0;34m\u001b[0m\u001b[0m\n\u001b[0m",
            "\u001b[0;32m/usr/local/lib/python3.10/dist-packages/torch/serialization.py\u001b[0m in \u001b[0;36mload\u001b[0;34m(f, map_location, pickle_module, weights_only, mmap, **pickle_load_args)\u001b[0m\n\u001b[1;32m    996\u001b[0m         \u001b[0mpickle_load_args\u001b[0m\u001b[0;34m[\u001b[0m\u001b[0;34m'encoding'\u001b[0m\u001b[0;34m]\u001b[0m \u001b[0;34m=\u001b[0m \u001b[0;34m'utf-8'\u001b[0m\u001b[0;34m\u001b[0m\u001b[0;34m\u001b[0m\u001b[0m\n\u001b[1;32m    997\u001b[0m \u001b[0;34m\u001b[0m\u001b[0m\n\u001b[0;32m--> 998\u001b[0;31m     \u001b[0;32mwith\u001b[0m \u001b[0m_open_file_like\u001b[0m\u001b[0;34m(\u001b[0m\u001b[0mf\u001b[0m\u001b[0;34m,\u001b[0m \u001b[0;34m'rb'\u001b[0m\u001b[0;34m)\u001b[0m \u001b[0;32mas\u001b[0m \u001b[0mopened_file\u001b[0m\u001b[0;34m:\u001b[0m\u001b[0;34m\u001b[0m\u001b[0;34m\u001b[0m\u001b[0m\n\u001b[0m\u001b[1;32m    999\u001b[0m         \u001b[0;32mif\u001b[0m \u001b[0m_is_zipfile\u001b[0m\u001b[0;34m(\u001b[0m\u001b[0mopened_file\u001b[0m\u001b[0;34m)\u001b[0m\u001b[0;34m:\u001b[0m\u001b[0;34m\u001b[0m\u001b[0;34m\u001b[0m\u001b[0m\n\u001b[1;32m   1000\u001b[0m             \u001b[0;31m# The zipfile reader is going to advance the current file position.\u001b[0m\u001b[0;34m\u001b[0m\u001b[0;34m\u001b[0m\u001b[0m\n",
            "\u001b[0;32m/usr/local/lib/python3.10/dist-packages/torch/serialization.py\u001b[0m in \u001b[0;36m_open_file_like\u001b[0;34m(name_or_buffer, mode)\u001b[0m\n\u001b[1;32m    443\u001b[0m \u001b[0;32mdef\u001b[0m \u001b[0m_open_file_like\u001b[0m\u001b[0;34m(\u001b[0m\u001b[0mname_or_buffer\u001b[0m\u001b[0;34m,\u001b[0m \u001b[0mmode\u001b[0m\u001b[0;34m)\u001b[0m\u001b[0;34m:\u001b[0m\u001b[0;34m\u001b[0m\u001b[0;34m\u001b[0m\u001b[0m\n\u001b[1;32m    444\u001b[0m     \u001b[0;32mif\u001b[0m \u001b[0m_is_path\u001b[0m\u001b[0;34m(\u001b[0m\u001b[0mname_or_buffer\u001b[0m\u001b[0;34m)\u001b[0m\u001b[0;34m:\u001b[0m\u001b[0;34m\u001b[0m\u001b[0;34m\u001b[0m\u001b[0m\n\u001b[0;32m--> 445\u001b[0;31m         \u001b[0;32mreturn\u001b[0m \u001b[0m_open_file\u001b[0m\u001b[0;34m(\u001b[0m\u001b[0mname_or_buffer\u001b[0m\u001b[0;34m,\u001b[0m \u001b[0mmode\u001b[0m\u001b[0;34m)\u001b[0m\u001b[0;34m\u001b[0m\u001b[0;34m\u001b[0m\u001b[0m\n\u001b[0m\u001b[1;32m    446\u001b[0m     \u001b[0;32melse\u001b[0m\u001b[0;34m:\u001b[0m\u001b[0;34m\u001b[0m\u001b[0;34m\u001b[0m\u001b[0m\n\u001b[1;32m    447\u001b[0m         \u001b[0;32mif\u001b[0m \u001b[0;34m'w'\u001b[0m \u001b[0;32min\u001b[0m \u001b[0mmode\u001b[0m\u001b[0;34m:\u001b[0m\u001b[0;34m\u001b[0m\u001b[0;34m\u001b[0m\u001b[0m\n",
            "\u001b[0;32m/usr/local/lib/python3.10/dist-packages/torch/serialization.py\u001b[0m in \u001b[0;36m__init__\u001b[0;34m(self, name, mode)\u001b[0m\n\u001b[1;32m    424\u001b[0m \u001b[0;32mclass\u001b[0m \u001b[0m_open_file\u001b[0m\u001b[0;34m(\u001b[0m\u001b[0m_opener\u001b[0m\u001b[0;34m)\u001b[0m\u001b[0;34m:\u001b[0m\u001b[0;34m\u001b[0m\u001b[0;34m\u001b[0m\u001b[0m\n\u001b[1;32m    425\u001b[0m     \u001b[0;32mdef\u001b[0m \u001b[0m__init__\u001b[0m\u001b[0;34m(\u001b[0m\u001b[0mself\u001b[0m\u001b[0;34m,\u001b[0m \u001b[0mname\u001b[0m\u001b[0;34m,\u001b[0m \u001b[0mmode\u001b[0m\u001b[0;34m)\u001b[0m\u001b[0;34m:\u001b[0m\u001b[0;34m\u001b[0m\u001b[0;34m\u001b[0m\u001b[0m\n\u001b[0;32m--> 426\u001b[0;31m         \u001b[0msuper\u001b[0m\u001b[0;34m(\u001b[0m\u001b[0;34m)\u001b[0m\u001b[0;34m.\u001b[0m\u001b[0m__init__\u001b[0m\u001b[0;34m(\u001b[0m\u001b[0mopen\u001b[0m\u001b[0;34m(\u001b[0m\u001b[0mname\u001b[0m\u001b[0;34m,\u001b[0m \u001b[0mmode\u001b[0m\u001b[0;34m)\u001b[0m\u001b[0;34m)\u001b[0m\u001b[0;34m\u001b[0m\u001b[0;34m\u001b[0m\u001b[0m\n\u001b[0m\u001b[1;32m    427\u001b[0m \u001b[0;34m\u001b[0m\u001b[0m\n\u001b[1;32m    428\u001b[0m     \u001b[0;32mdef\u001b[0m \u001b[0m__exit__\u001b[0m\u001b[0;34m(\u001b[0m\u001b[0mself\u001b[0m\u001b[0;34m,\u001b[0m \u001b[0;34m*\u001b[0m\u001b[0margs\u001b[0m\u001b[0;34m)\u001b[0m\u001b[0;34m:\u001b[0m\u001b[0;34m\u001b[0m\u001b[0;34m\u001b[0m\u001b[0m\n",
            "\u001b[0;31mFileNotFoundError\u001b[0m: [Errno 2] No such file or directory: 'CNN.pth'"
          ]
        }
      ]
    },
    {
      "cell_type": "markdown",
      "source": [
        "##CNN Training"
      ],
      "metadata": {
        "id": "s0Gf9DvCRCUS"
      }
    },
    {
      "cell_type": "code",
      "source": [
        "optimizer = optim.Adam(CNN.parameters(), lr=0.001)\n",
        "lossFunc = nn.MSELoss()\n",
        "\n",
        "Iters = 1\n",
        "\n",
        "for itr in range(Iters):\n",
        "  for data in trainData:\n",
        "    X,y = data\n",
        "    CNN.zero_grad()\n",
        "    cnnOut = CNN(X.view(-1, 1, 28,28))\n",
        "    loss = F.nll_loss(cnnOut, y)\n",
        "    loss.backward()\n",
        "    optimizer.step()"
      ],
      "metadata": {
        "id": "s2Qf002kRFvm"
      },
      "execution_count": null,
      "outputs": []
    },
    {
      "cell_type": "markdown",
      "source": [
        "##CNN Testing"
      ],
      "metadata": {
        "id": "AmT-3mLkUPGZ"
      }
    },
    {
      "cell_type": "markdown",
      "source": [
        "Training Validation"
      ],
      "metadata": {
        "id": "Oj-Ja2AxUU-e"
      }
    },
    {
      "cell_type": "code",
      "source": [
        "with torch.no_grad():\n",
        "  correct = 0\n",
        "  total = 0\n",
        "  for data in trainData:\n",
        "    X, y = data\n",
        "    out = CNN(X.view(-1, 1, 28, 28))\n",
        "    for index, i in enumerate(out):\n",
        "      if torch.argmax(i) == y[index]:\n",
        "        correct += 1\n",
        "      total += 1\n",
        "\n",
        "print(f'Training Accuracy: {correct / total}')\n"
      ],
      "metadata": {
        "colab": {
          "base_uri": "https://localhost:8080/"
        },
        "id": "oaQIW1K-USEk",
        "outputId": "271db980-9ef5-40ac-84d4-a8f960d9d6ae"
      },
      "execution_count": null,
      "outputs": [
        {
          "output_type": "stream",
          "name": "stdout",
          "text": [
            "Training Accuracy: 0.9760333333333333\n"
          ]
        }
      ]
    },
    {
      "cell_type": "markdown",
      "source": [
        "Testing Accuracy"
      ],
      "metadata": {
        "id": "2L9j5NqWV5XP"
      }
    },
    {
      "cell_type": "code",
      "source": [
        "with torch.no_grad():\n",
        "  correct = 0\n",
        "  total = 0\n",
        "  for data in testData:\n",
        "    X, y = data\n",
        "    out = CNN(X.view(-1, 1, 28, 28))\n",
        "    for index, i in enumerate(out):\n",
        "      if torch.argmax(i) == y[index]:\n",
        "        correct += 1\n",
        "      total += 1\n",
        "\n",
        "print(f'Training Accuracy: {correct / total}')"
      ],
      "metadata": {
        "id": "ozO1ycHmV74E",
        "outputId": "2017235c-1eb5-49aa-c8de-166ac11a56b0",
        "colab": {
          "base_uri": "https://localhost:8080/"
        }
      },
      "execution_count": null,
      "outputs": [
        {
          "output_type": "stream",
          "name": "stdout",
          "text": [
            "Training Accuracy: 0.8809\n"
          ]
        }
      ]
    },
    {
      "cell_type": "markdown",
      "source": [
        "#Attacks"
      ],
      "metadata": {
        "id": "Zji9RvsmPKZN"
      }
    },
    {
      "cell_type": "markdown",
      "source": [
        "## Fast Gradient Sign Method (FGSM)\n"
      ],
      "metadata": {
        "id": "MkSD3jltJmYx"
      }
    },
    {
      "cell_type": "code",
      "source": [
        "def fgsm_attack(image, epsilon, data_grad):\n",
        "    # Collect the element-wise sign of the data gradient\n",
        "    sign_data_grad = data_grad.sign()\n",
        "    # Create the perturbed image by adjusting each pixel of the input image\n",
        "    perturbed_image = image + epsilon*sign_data_grad\n",
        "    # Adding clipping to maintain [0,1] range\n",
        "    perturbed_image = torch.clamp(perturbed_image, 0, 1)\n",
        "    # Return the perturbed image\n",
        "    return perturbed_image"
      ],
      "metadata": {
        "id": "uN6P2XBgJud9"
      },
      "execution_count": null,
      "outputs": []
    },
    {
      "cell_type": "code",
      "source": [
        "\n",
        "perturbed_test = torch.utils.data.DataLoader(test, batch_size=1, shuffle=True)\n",
        "correct = 0\n",
        "total = 0\n",
        "epsilon = 0.3\n",
        "for data in perturbed_test:\n",
        "  X, y = data\n",
        "  X.requires_grad = True\n",
        "  CNN.zero_grad()\n",
        "  cnnOut = CNN(X.view(-1, 1, 28,28))\n",
        "  loss = F.nll_loss(cnnOut, y)\n",
        "  loss.backward()\n",
        "  perturbed_data = fgsm_attack(X, epsilon, X.grad.data)\n",
        "  output = CNN(perturbed_data.view(-1,1,28,28))\n",
        "  for index, i in enumerate(output):\n",
        "    if torch.argmax(i) == y[index]:\n",
        "      correct += 1\n",
        "    total += 1\n",
        "\n",
        "print(f'Training Accuracy: {correct / total}')"
      ],
      "metadata": {
        "colab": {
          "base_uri": "https://localhost:8080/"
        },
        "id": "Yi2wFpUYMH-x",
        "outputId": "78278b15-f3c3-4682-8127-12185ced178c"
      },
      "execution_count": null,
      "outputs": [
        {
          "output_type": "stream",
          "name": "stdout",
          "text": [
            "Training Accuracy: 0.4086\n"
          ]
        }
      ]
    },
    {
      "cell_type": "markdown",
      "source": [
        "##Spatial Transformation Method"
      ],
      "metadata": {
        "id": "rbC3-PYuA7t0"
      }
    },
    {
      "cell_type": "markdown",
      "source": [
        "Idea: To train these in a adversarial model to where it is able to label like 90% of the image?"
      ],
      "metadata": {
        "id": "6FHBnw1qCX3l"
      }
    },
    {
      "cell_type": "code",
      "source": [
        "class stAdvAttack:\n",
        "    def __init__(self, model, hingle_flag, ld_tv, ld_adv):\n",
        "\n",
        "        self.model = model\n",
        "        self.hingle_flag = hingle_flag\n",
        "        self.ld_tv = ld_tv\n",
        "        self.ld_adv = ld_adv\n",
        "\n",
        "        super(stAdvAttack, self).__init__()\n",
        "\n",
        "    def __generate_img_from_flow(self, flow, grid, image):\n",
        "        flow2 = flow.transpose(1,2).transpose(2,3)\n",
        "        grid2 = grid + flow2\n",
        "        grid3 = grid2.clamp(-1, 1)\n",
        "        fake = F.grid_sample(image, grid3)\n",
        "        loss_tv = torch.sqrt(torch.mean((flow2[:,1:,:,:] - flow2[:,:-1,:,:])**2)\\\n",
        "                                + torch.mean((flow2[:,:,1:,:] - flow2[:,:,:-1,:])**2)  + 10e-10)\n",
        "\n",
        "        return fake, loss_tv\n",
        "\n",
        "    def __adv_loss(self, model, target_labels, adv_images):\n",
        "        predict_labels = model(adv_images)\n",
        "        real = torch.sum( predict_labels * target_labels, 1)\n",
        "        # pdb.set_trace()\n",
        "        other, _ = torch.max( ( 1 - target_labels) * predict_labels - target_labels * 1000, 1)\n",
        "        # pdb.set_trace()\n",
        "        loss = torch.clamp( other - real + 0.1, min = 0)\n",
        "        loss = torch.mean(loss)\n",
        "        return loss\n",
        "\n",
        "    def perturb(self, X, y):\n",
        "        b, n, w, h = X.size()\n",
        "\n",
        "        # create a grid\n",
        "        M = np.array([1.0, 0.0, 0.0, 0.0, 1.0, 0.0] * b, dtype=np.float32)\n",
        "        M_tensor = torch.from_numpy(M).view(b, 2, 3).to(X.device)\n",
        "        grid = F.affine_grid(M_tensor, X.size())\n",
        "\n",
        "        self.grid = grid\n",
        "        flow = torch.zeros(b, 2, w, h ).to(X.device)\n",
        "        flow.requires_grad = True\n",
        "        optimizer = optim.LBFGS([flow], lr = 0.03,  max_iter = 500, line_search_fn = 'strong_wolfe')\n",
        "        # optimizer = optim.Adam([flow], maximize=True, lr = 0.03)\n",
        "        success_flow = None\n",
        "        big_loss_tv = 1e10\n",
        "        step = 0\n",
        "\n",
        "        def closure():\n",
        "            nonlocal step\n",
        "            nonlocal big_loss_tv\n",
        "            nonlocal success_flow\n",
        "            optimizer.zero_grad()\n",
        "            adv_images, loss_tv = self.__generate_img_from_flow(flow, grid, X)\n",
        "\n",
        "            loss_adv = self.__adv_loss(self.model, y, adv_images)\n",
        "\n",
        "            # if self.hingle_flag:\n",
        "            #   # We are modifying the ld_tv which determine the smoothness of the transformation,\n",
        "            #   # Increase smoothes the image, decrease smoothes it less\n",
        "            #   # Adversarial weight loss determines the intensity of the perturbation\n",
        "            #   # Increase perturbation to make the attack more successful\n",
        "            # print(self.ld_tv)\n",
        "            # print(self.ld_adv)\n",
        "            loss = self.ld_tv * loss_tv + self.ld_adv * torch.clamp(  loss_adv , min = 0)\n",
        "            #\n",
        "            #     # print(loss)\n",
        "            # else:\n",
        "            # loss = self.ld_tv * loss_tv + self.ld_adv * loss_adv\n",
        "            print(loss)\n",
        "            loss.backward()\n",
        "\n",
        "            if loss_adv.item() < 1e-3 and loss_adv.item() < big_loss_tv:\n",
        "                success_flow = flow\n",
        "                big_loss_tv = loss_adv.item()\n",
        "            # print(step, loss.item(), loss_adv.item(), loss_tv.item())\n",
        "            step += 1\n",
        "            return loss\n",
        "        optimizer.step(closure)\n",
        "        if big_loss_tv != 1e10:\n",
        "            adv_images, loss_tv = self.__generate_img_from_flow(success_flow, grid, X)\n",
        "        else:\n",
        "            adv_images, loss_tv = self.__generate_img_from_flow(flow, grid, X)\n",
        "        # logit = self.model(adv_images)\n",
        "        # _, pred = torch.max(logit, 1)\n",
        "        return adv_images\n"
      ],
      "metadata": {
        "id": "CFHroDMfhN7o"
      },
      "execution_count": null,
      "outputs": []
    },
    {
      "cell_type": "markdown",
      "source": [
        "#RESNET"
      ],
      "metadata": {
        "id": "Pc06-dyoBKBO"
      }
    },
    {
      "cell_type": "code",
      "source": [
        "# transform = transforms.Compose([\n",
        "#     transforms.Resize(224),  # Resize to match ResNet input size\n",
        "#     transforms.Grayscale(num_output_channels=3),  # Convert to 3 channels\n",
        "#     transforms.ToTensor(),\n",
        "#     transforms.Normalize(mean=[0.485, 0.456, 0.406], std=[0.229, 0.224, 0.225]),\n",
        "# ])\n",
        "\n",
        "transform = transforms.Compose([\n",
        "        transforms.RandomCrop(32, padding=4),\n",
        "        transforms.RandomHorizontalFlip(),\n",
        "        transforms.ToTensor(),\n",
        "        transforms.Normalize((0.4914, 0.4822, 0.4465), (0.2023, 0.1994, 0.2010)),\n",
        "        ])\n",
        "\n",
        "train = datasets.MNIST(root=\"./data\", train = True, download=True, transform= transform)\n",
        "test = datasets.MNIST(root=\"./data\", train = False, download=True, transform= transform)\n",
        "trainData = torch.utils.data.DataLoader(train, batch_size=32, shuffle=True, generator=torch.Generator(device))\n",
        "testData = torch.utils.data.DataLoader(test, batch_size=32, shuffle=True, generator=torch.Generator(device))\n",
        "\n",
        "resnet = models.resnet18(pretrained=True).to(device)\n",
        "# resnet.conv1 = nn.Conv2d(3, 64, kernel_size=(7, 7), stride=(2, 2), padding=(3, 3), bias=False)\n",
        "resnet.fc = nn.Linear(resnet.fc.in_features, 10)\n",
        "# resnet.eval()\n",
        "criterion = nn.CrossEntropyLoss()\n",
        "optimizer = optim.SGD(resnet.parameters(), lr=0.001, momentum=0.9)"
      ],
      "metadata": {
        "colab": {
          "base_uri": "https://localhost:8080/"
        },
        "id": "fgDdqbkwKq0M",
        "outputId": "da0a9871-bc09-48f0-ec55-3ac71cada1ae"
      },
      "execution_count": null,
      "outputs": [
        {
          "output_type": "stream",
          "name": "stderr",
          "text": [
            "/usr/local/lib/python3.10/dist-packages/torchvision/models/_utils.py:208: UserWarning: The parameter 'pretrained' is deprecated since 0.13 and may be removed in the future, please use 'weights' instead.\n",
            "  warnings.warn(\n",
            "/usr/local/lib/python3.10/dist-packages/torchvision/models/_utils.py:223: UserWarning: Arguments other than a weight enum or `None` for 'weights' are deprecated since 0.13 and may be removed in the future. The current behavior is equivalent to passing `weights=ResNet18_Weights.IMAGENET1K_V1`. You can also use `weights=ResNet18_Weights.DEFAULT` to get the most up-to-date weights.\n",
            "  warnings.warn(msg)\n"
          ]
        }
      ]
    },
    {
      "cell_type": "code",
      "source": [
        "print('Training....')\n",
        "total = 0\n",
        "correct = 0\n",
        "resnet.eval()\n",
        "\n",
        "for epoch in range(5):\n",
        "\n",
        "    for i, data in enumerate(trainData, 1):\n",
        "        images, labels = data\n",
        "\n",
        "        if(torch.cuda.is_available()):\n",
        "            images = images.cuda()\n",
        "            labels = labels.cuda()\n",
        "\n",
        "        optimizer.zero_grad()\n",
        "        outputs = resnet(images)\n",
        "\n",
        "        _, predicted = torch.max(outputs.data, 1)\n",
        "        total += labels.size(0)\n",
        "        correct += (predicted == labels).sum().item()\n",
        "\n",
        "        loss = criterion(outputs, labels)\n",
        "        if(i%100 == 0):\n",
        "            print('Epoch: {} Batch: {} loss: {}'.format(epoch, i, loss.item()))\n",
        "\n",
        "        loss.backward()\n",
        "        optimizer.step()\n",
        "\n",
        "print('Training accuracy: {} %'.format((correct/total)*100))"
      ],
      "metadata": {
        "colab": {
          "base_uri": "https://localhost:8080/"
        },
        "id": "WSszxJRUyCLJ",
        "outputId": "84686298-5187-4164-ece4-9faecf51a00b"
      },
      "execution_count": null,
      "outputs": [
        {
          "output_type": "stream",
          "name": "stdout",
          "text": [
            "Training....\n",
            "Epoch: 0 Batch: 100 loss: 0.5698409080505371\n",
            "Epoch: 0 Batch: 200 loss: 0.37022945284843445\n",
            "Epoch: 0 Batch: 300 loss: 0.8963056802749634\n",
            "Epoch: 0 Batch: 400 loss: 0.3877232074737549\n",
            "Epoch: 0 Batch: 500 loss: 0.35602790117263794\n",
            "Epoch: 0 Batch: 600 loss: 0.5556374788284302\n",
            "Epoch: 0 Batch: 700 loss: 0.5109344720840454\n",
            "Epoch: 0 Batch: 800 loss: 0.7864575386047363\n",
            "Epoch: 0 Batch: 900 loss: 0.9448019862174988\n",
            "Epoch: 0 Batch: 1000 loss: 0.8774036765098572\n",
            "Epoch: 0 Batch: 1100 loss: 0.19191741943359375\n",
            "Epoch: 0 Batch: 1200 loss: 0.5789717435836792\n",
            "Epoch: 0 Batch: 1300 loss: 0.8501622676849365\n",
            "Epoch: 0 Batch: 1400 loss: 0.6660404205322266\n",
            "Epoch: 0 Batch: 1500 loss: 0.9264596700668335\n",
            "Epoch: 1 Batch: 100 loss: 0.41006240248680115\n",
            "Epoch: 1 Batch: 200 loss: 0.3555484414100647\n",
            "Epoch: 1 Batch: 300 loss: 0.6334215402603149\n",
            "Epoch: 1 Batch: 400 loss: 0.646931529045105\n",
            "Epoch: 1 Batch: 500 loss: 0.34551647305488586\n",
            "Epoch: 1 Batch: 600 loss: 0.7456912398338318\n",
            "Epoch: 1 Batch: 700 loss: 0.38315799832344055\n",
            "Epoch: 1 Batch: 800 loss: 0.9105333089828491\n",
            "Epoch: 1 Batch: 900 loss: 0.8479174375534058\n",
            "Epoch: 1 Batch: 1000 loss: 0.765377938747406\n",
            "Epoch: 1 Batch: 1100 loss: 0.6533896327018738\n",
            "Epoch: 1 Batch: 1200 loss: 0.6576400995254517\n",
            "Epoch: 1 Batch: 1300 loss: 0.6239281296730042\n",
            "Epoch: 1 Batch: 1400 loss: 0.2376771718263626\n",
            "Epoch: 1 Batch: 1500 loss: 0.770675539970398\n",
            "Epoch: 2 Batch: 100 loss: 0.6339427828788757\n",
            "Epoch: 2 Batch: 200 loss: 0.4807863235473633\n",
            "Epoch: 2 Batch: 300 loss: 0.34486815333366394\n",
            "Epoch: 2 Batch: 400 loss: 0.6702938079833984\n",
            "Epoch: 2 Batch: 500 loss: 0.563234806060791\n",
            "Epoch: 2 Batch: 600 loss: 0.5467298030853271\n",
            "Epoch: 2 Batch: 700 loss: 0.43687209486961365\n",
            "Epoch: 2 Batch: 800 loss: 0.3888692259788513\n",
            "Epoch: 2 Batch: 900 loss: 0.6355445981025696\n",
            "Epoch: 2 Batch: 1000 loss: 0.9237178564071655\n",
            "Epoch: 2 Batch: 1100 loss: 0.3716013431549072\n",
            "Epoch: 2 Batch: 1200 loss: 0.5241460800170898\n",
            "Epoch: 2 Batch: 1300 loss: 0.44984352588653564\n",
            "Epoch: 2 Batch: 1400 loss: 0.3352639675140381\n",
            "Epoch: 2 Batch: 1500 loss: 0.6044938564300537\n",
            "Epoch: 3 Batch: 100 loss: 0.4306401014328003\n",
            "Epoch: 3 Batch: 200 loss: 0.4963308572769165\n",
            "Epoch: 3 Batch: 300 loss: 0.3824405074119568\n",
            "Epoch: 3 Batch: 400 loss: 0.7686578035354614\n",
            "Epoch: 3 Batch: 500 loss: 0.8622769713401794\n",
            "Epoch: 3 Batch: 600 loss: 0.7964280247688293\n",
            "Epoch: 3 Batch: 700 loss: 0.47636187076568604\n",
            "Epoch: 3 Batch: 800 loss: 0.23167134821414948\n",
            "Epoch: 3 Batch: 900 loss: 0.3780701160430908\n",
            "Epoch: 3 Batch: 1000 loss: 0.6643999218940735\n",
            "Epoch: 3 Batch: 1100 loss: 0.5092594027519226\n",
            "Epoch: 3 Batch: 1200 loss: 0.8364841938018799\n",
            "Epoch: 3 Batch: 1300 loss: 0.46955743432044983\n",
            "Epoch: 3 Batch: 1400 loss: 0.4624275863170624\n",
            "Epoch: 3 Batch: 1500 loss: 0.6274669170379639\n",
            "Epoch: 4 Batch: 100 loss: 0.3612487316131592\n",
            "Epoch: 4 Batch: 200 loss: 0.41207271814346313\n",
            "Epoch: 4 Batch: 300 loss: 0.5300973653793335\n",
            "Epoch: 4 Batch: 400 loss: 0.2490556389093399\n",
            "Epoch: 4 Batch: 500 loss: 0.21958063542842865\n",
            "Epoch: 4 Batch: 600 loss: 0.5065212249755859\n",
            "Epoch: 4 Batch: 700 loss: 0.5679392218589783\n",
            "Epoch: 4 Batch: 800 loss: 0.5369583368301392\n",
            "Epoch: 4 Batch: 900 loss: 0.32383376359939575\n",
            "Epoch: 4 Batch: 1000 loss: 0.31961220502853394\n",
            "Epoch: 4 Batch: 1100 loss: 0.5514762997627258\n",
            "Epoch: 4 Batch: 1200 loss: 0.2714826166629791\n",
            "Epoch: 4 Batch: 1300 loss: 0.343545526266098\n",
            "Epoch: 4 Batch: 1400 loss: 0.592656672000885\n",
            "Epoch: 4 Batch: 1500 loss: 0.350891649723053\n",
            "Training accuracy: 80.6228 %\n"
          ]
        }
      ]
    },
    {
      "cell_type": "code",
      "source": [
        "total = 0\n",
        "correct = 0\n",
        "for i, data in enumerate(testData, 1):\n",
        "        images, labels = data\n",
        "\n",
        "        if(torch.cuda.is_available()):\n",
        "            images = images.cuda()\n",
        "            labels = labels.cuda()\n",
        "        outputs = resnet(images)\n",
        "\n",
        "        _, predicted = torch.max(outputs.data, 1)\n",
        "        total += labels.size(0)\n",
        "        correct += (predicted == labels).sum().item()\n",
        "print('Training accuracy: {} %'.format((correct/total)*100))"
      ],
      "metadata": {
        "colab": {
          "base_uri": "https://localhost:8080/"
        },
        "id": "JwvdBQ4I2sKT",
        "outputId": "731c0268-3aef-4c6a-d825-8388ce440053"
      },
      "execution_count": null,
      "outputs": [
        {
          "output_type": "stream",
          "name": "stdout",
          "text": [
            "Training accuracy: 81.56 %\n"
          ]
        }
      ]
    },
    {
      "cell_type": "code",
      "source": [
        "torch.save(resnet.state_dict(), 'resnet_CIFAR10.pth')"
      ],
      "metadata": {
        "id": "eY2LYoVEAX45"
      },
      "execution_count": null,
      "outputs": []
    },
    {
      "cell_type": "code",
      "source": [
        "from google.colab import drive\n",
        "drive.mount('/content/gdrive')\n",
        "\n",
        "%cd '/content/gdrive/My Drive/Final Project/'\n",
        "\n",
        "# torch.save(resnet.state_dict(), 'resnet_MNIST.pth')\n",
        "resnet = models.resnet18(pretrained=True).to(device)\n",
        "resnet.eval()\n",
        "resnet.conv1 = nn.Conv2d(3, 64, kernel_size=(7, 7), stride=(2, 2), padding=(3, 3), bias=False)\n",
        "resnet.fc = nn.Linear(resnet.fc.in_features, 10)\n",
        "\n",
        "resnet.load_state_dict(torch.load(\"resnet_MNIST.pth\"))\n"
      ],
      "metadata": {
        "colab": {
          "base_uri": "https://localhost:8080/"
        },
        "id": "C3GHnUp16VvN",
        "outputId": "01a1bc0d-f7bc-4e89-9886-4c566ad5788e"
      },
      "execution_count": null,
      "outputs": [
        {
          "output_type": "stream",
          "name": "stdout",
          "text": [
            "Drive already mounted at /content/gdrive; to attempt to forcibly remount, call drive.mount(\"/content/gdrive\", force_remount=True).\n",
            "/content/gdrive/.shortcut-targets-by-id/1iVJKQOYh1rxnnjqWCZHGQ0pbV6zsqM3M/Final Project\n"
          ]
        },
        {
          "output_type": "execute_result",
          "data": {
            "text/plain": [
              "<All keys matched successfully>"
            ]
          },
          "metadata": {},
          "execution_count": 190
        }
      ]
    },
    {
      "cell_type": "markdown",
      "source": [
        "## FGSM on Resnet\n"
      ],
      "metadata": {
        "id": "pJ4nAbSHBEV6"
      }
    },
    {
      "cell_type": "code",
      "source": [
        "# Load MNIST dataset\n",
        "num_images = 100\n",
        "subset_sampler =  torch.utils.data.SubsetRandomSampler(range(num_images))\n",
        "\n",
        "# Create a DataLoader with the subset sampler\n",
        "perturbed_test = torch.utils.data.DataLoader(test, batch_size=1, sampler=subset_sampler, generator=torch.Generator(device))\n",
        "correct = 0\n",
        "total = 0\n",
        "array = [0.1,0.3,0.5]\n",
        "for element in array:\n",
        "  epsilon = element\n",
        "  for data in perturbed_test:\n",
        "    X, y = data\n",
        "    X = X.to(device)\n",
        "    X.requires_grad = True\n",
        "    resnet.zero_grad()\n",
        "    cnnOut = resnet(X)\n",
        "    loss = F.cross_entropy(cnnOut, y)\n",
        "    loss.backward()\n",
        "    perturbed_data = fgsm_attack(X, epsilon, X.grad.data)\n",
        "    output = resnet(perturbed_data)\n",
        "    for index, i in enumerate(output):\n",
        "      if torch.argmax(i) == y[index]:\n",
        "        correct += 1\n",
        "      total += 1\n",
        "  print(f'Epilson: {epsilon}')\n",
        "  print(f'Predicting Accuracy: {correct / total}')"
      ],
      "metadata": {
        "id": "YR2cZCtnBSgi",
        "colab": {
          "base_uri": "https://localhost:8080/"
        },
        "outputId": "b26bfeea-7d7a-477b-eb8f-2e74f4afca6e"
      },
      "execution_count": null,
      "outputs": [
        {
          "output_type": "stream",
          "name": "stdout",
          "text": [
            "Epilson: 0.1\n",
            "Predicting Accuracy: 0.27\n",
            "Epilson: 0.3\n",
            "Predicting Accuracy: 0.195\n",
            "Epilson: 0.5\n",
            "Predicting Accuracy: 0.15666666666666668\n"
          ]
        }
      ]
    },
    {
      "cell_type": "markdown",
      "source": [
        "## Spatial Attack on Resnet"
      ],
      "metadata": {
        "id": "6tjcn_7rA6PJ"
      }
    },
    {
      "cell_type": "code",
      "source": [
        "transform = transforms.Compose([\n",
        "    transforms.Resize(224),  # Resize to match ResNet input size\n",
        "    transforms.Grayscale(num_output_channels=3),  # Convert to 3 channels\n",
        "    transforms.ToTensor(),\n",
        "    transforms.Normalize(mean=[0.485, 0.456, 0.406], std=[0.229, 0.224, 0.225]),\n",
        "])\n",
        "\n",
        "# Load MNIST dataset\n",
        "num_images = 100\n",
        "subset_sampler =  torch.utils.data.SubsetRandomSampler(range(num_images))\n",
        "\n",
        "# Create a DataLoader with the subset sampler\n",
        "spatial_test = torch.utils.data.DataLoader(test, batch_size=1, sampler=subset_sampler, generator=torch.Generator(device))\n",
        "# spatial_test = torch.utils.data.DataLoader(mnist_dataset, batch_size=10, shuffle=True, generator=torch.Generator(device))\n",
        "print(len(spatial_test))\n",
        "\n",
        "num_classes=10\n",
        "hingle_flag = 1\n",
        "ld_tv_arr = [.14,.3,1.75]\n",
        "ld_adv_arr = [.6,1,3.5]\n",
        "for i in range(3):\n",
        "  ld_tv = ld_tv_arr[i]\n",
        "  ld_adv = ld_adv_arr[i]\n",
        "  attack = stAdvAttack(model=resnet,hingle_flag=hingle_flag, ld_tv=ld_tv, ld_adv=ld_adv)\n",
        "\n",
        "  correct = 0\n",
        "  total = 0\n",
        "  for data in spatial_test:\n",
        "    X, y = data\n",
        "    X = X.to(device)\n",
        "    resnet.zero_grad()\n",
        "    cnnOut = resnet(X)\n",
        "    loss = F.cross_entropy(cnnOut, y)\n",
        "    loss.backward()\n",
        "    target_labels = np.zeros([1, num_classes], dtype = np.float32)\n",
        "    target_labels[:, 0] = 1\n",
        "    target_labels = torch.from_numpy(target_labels).cuda()\n",
        "    perturbed_data = attack.perturb(X, target_labels)\n",
        "    output = resnet(perturbed_data)\n",
        "    for index, i in enumerate(output):\n",
        "      if torch.argmax(i) == y[index]:\n",
        "        correct += 1\n",
        "      total += 1\n",
        "  print(f'LD_TV: {ld_tv} LD_ADV: {ld_adv}')\n",
        "  print(f'Predicting Accuracy: {correct / total}')"
      ],
      "metadata": {
        "id": "0yk3-Pshxnyq",
        "colab": {
          "base_uri": "https://localhost:8080/"
        },
        "outputId": "74ccb120-96d1-4a44-cec5-26d7acb8268a"
      },
      "execution_count": null,
      "outputs": [
        {
          "output_type": "stream",
          "name": "stdout",
          "text": [
            "100\n"
          ]
        },
        {
          "output_type": "stream",
          "name": "stderr",
          "text": [
            "/usr/local/lib/python3.10/dist-packages/torch/nn/functional.py:4377: UserWarning: Default grid_sample and affine_grid behavior has changed to align_corners=False since 1.3.0. Please specify align_corners=True if the old behavior is desired. See the documentation of grid_sample for details.\n",
            "  warnings.warn(\n",
            "/usr/local/lib/python3.10/dist-packages/torch/nn/functional.py:4316: UserWarning: Default grid_sample and affine_grid behavior has changed to align_corners=False since 1.3.0. Please specify align_corners=True if the old behavior is desired. See the documentation of grid_sample for details.\n",
            "  warnings.warn(\n"
          ]
        },
        {
          "output_type": "stream",
          "name": "stdout",
          "text": [
            "LD_TV: 0.14 LD_ADV: 0.6\n",
            "Predicting Accuracy: 0.12\n",
            "LD_TV: 0.3 LD_ADV: 1\n",
            "Predicting Accuracy: 0.1\n",
            "LD_TV: 1.75 LD_ADV: 3.5\n",
            "Predicting Accuracy: 0.12\n"
          ]
        }
      ]
    },
    {
      "cell_type": "markdown",
      "source": [
        "## Feature Extraction to compare Pixel and Spatial Transformation using L2 Norm"
      ],
      "metadata": {
        "id": "sUbMbSe1soZL"
      }
    },
    {
      "cell_type": "code",
      "source": [
        "modified_inception = models.inception_v3(pretrained=True)\n",
        "modified_inception.fc = nn.Identity()  # Replace the final fully connected layer with an identity function\n",
        "modified_inception = modified_inception.to(device)\n",
        "modified_inception.eval()\n",
        "\n",
        "inception = models.inception_v3(pretrained=True, transform_input=False)\n",
        "inception.eval()\n",
        "\n",
        "transform = transforms.Compose([\n",
        "    transforms.Resize((299,299)),  # Resize to match ResNet input size\n",
        "    transforms.Grayscale(num_output_channels=3),  # Convert to 3 channels\n",
        "    transforms.ToTensor(),\n",
        "    transforms.Normalize(mean=[0.5, 0.5, 0.5], std=[0.5, 0.5, 0.5]),\n",
        "])\n",
        "\n",
        "# Load MNIST dataset\n",
        "mnist_dataset = torchvision.datasets.MNIST(root='./data', train=False, download=True, transform= transform)\n",
        "mnist_loader = torch.utils.data.DataLoader(mnist_dataset, batch_size=1, shuffle=True, generator=torch.Generator(device=device))\n",
        "\n",
        "# Take a sample image from MNIST dataset\n",
        "sample_image, label = next(iter(mnist_loader))\n",
        "sample_image, label = next(iter(mnist_loader))\n",
        "sample_image, label = next(iter(mnist_loader))\n",
        "sample_image, label = next(iter(mnist_loader))\n",
        "sample_image, label = next(iter(mnist_loader))\n",
        "sample_image, label = next(iter(mnist_loader))\n",
        "sample_image = sample_image.to(device)\n",
        "\n",
        "def extract_features(input_data, model):\n",
        "    with torch.no_grad():\n",
        "        features = model(input_data)\n",
        "    return features\n",
        "\n",
        "# baseline_features = extract_features(sample_image, modified_resnet)\n",
        "baseline_features = extract_features(sample_image, modified_inception)\n"
      ],
      "metadata": {
        "id": "FVUMwM5UX6X-",
        "colab": {
          "base_uri": "https://localhost:8080/"
        },
        "outputId": "0ed1c2ca-1d2f-4ef8-b2a9-49d4a2cab37c"
      },
      "execution_count": null,
      "outputs": [
        {
          "output_type": "stream",
          "name": "stderr",
          "text": [
            "/usr/local/lib/python3.10/dist-packages/torchvision/models/_utils.py:223: UserWarning: Arguments other than a weight enum or `None` for 'weights' are deprecated since 0.13 and may be removed in the future. The current behavior is equivalent to passing `weights=Inception_V3_Weights.IMAGENET1K_V1`. You can also use `weights=Inception_V3_Weights.DEFAULT` to get the most up-to-date weights.\n",
            "  warnings.warn(msg)\n"
          ]
        }
      ]
    },
    {
      "cell_type": "code",
      "source": [
        "# Convert the tensor image to a numpy array and transpose it to (H, W, C) format\n",
        "image_np = sample_image.cpu().detach().squeeze().permute(1, 2, 0).numpy()\n",
        "# image_np = spatial_data.cpu().detach().squeeze().permute(1, 2, 0).numpy()\n",
        "\n",
        "# Reverse normalization to display the image properly\n",
        "# mean = [0.5, 0.5, 0.5]\n",
        "# std = [0.5, 0.5, 0.5]\n",
        "# image_np = std * image_np + mean\n",
        "# image_np = np.clip(image_np, 0, 1)\n",
        "\n",
        "# Plot the image\n",
        "plt.imshow(image_np)\n",
        "plt.axis('off')\n",
        "plt.show()"
      ],
      "metadata": {
        "colab": {
          "base_uri": "https://localhost:8080/",
          "height": 423
        },
        "id": "sDsdgejV9kTf",
        "outputId": "301c6923-43c5-4cf8-c251-abe98a7a72c4"
      },
      "execution_count": null,
      "outputs": [
        {
          "output_type": "stream",
          "name": "stderr",
          "text": [
            "WARNING:matplotlib.image:Clipping input data to the valid range for imshow with RGB data ([0..1] for floats or [0..255] for integers).\n"
          ]
        },
        {
          "output_type": "display_data",
          "data": {
            "text/plain": [
              "<Figure size 640x480 with 1 Axes>"
            ],
            "image/png": "[encoded data removed]"
          },
          "metadata": {}
        }
      ]
    },
    {
      "cell_type": "markdown",
      "source": [
        "##Baseline Comparsion"
      ],
      "metadata": {
        "id": "pZ6a4-KK0urT"
      }
    },
    {
      "cell_type": "markdown",
      "source": [
        "##Pixel Perturbation L2 Norm Baseline"
      ],
      "metadata": {
        "id": "OLj_Zmvh1qoo"
      }
    },
    {
      "cell_type": "code",
      "source": [
        "sample_image.requires_grad = True\n",
        "output = inception(sample_image)\n",
        "loss_value = F.cross_entropy(output, label)\n",
        "inception.zero_grad()\n",
        "loss_value.backward()\n",
        "epsilon = 0.5\n",
        "perturbed_data = fgsm_attack(sample_image, epsilon, sample_image.grad.data)\n",
        "\n",
        "pixel_features = extract_features(perturbed_data, modified_inception)\n",
        "\n",
        "l2_norm = np.linalg.norm(baseline_features.cpu() - pixel_features.cpu())\n",
        "print(l2_norm)"
      ],
      "metadata": {
        "colab": {
          "base_uri": "https://localhost:8080/"
        },
        "id": "Qry3SbKx1pZo",
        "outputId": "8f9e73fc-bdee-4508-8cd2-3643df172366"
      },
      "execution_count": null,
      "outputs": [
        {
          "output_type": "stream",
          "name": "stdout",
          "text": [
            "18.442112\n"
          ]
        }
      ]
    },
    {
      "cell_type": "code",
      "source": [
        "\n",
        "\n",
        "# Convert the tensor image to a numpy array and transpose it to (H, W, C) format\n",
        "image_np = perturbed_data.cpu().detach().squeeze().permute(1, 2, 0).numpy()\n",
        "\n",
        "# Reverse normalization to display the image properly\n",
        "# mean = [0.5, 0.5, 0.5]\n",
        "# std = [0.5, 0.5, 0.5]\n",
        "# image_np = std * image_np + mean\n",
        "# image_np = np.clip(image_np, 0, 1)\n",
        "\n",
        "# Plot the image\n",
        "# plt.imshow(image_np)\n",
        "plt.axis('off')\n",
        "plt.imshow(image_np)\n",
        "plt.show()"
      ],
      "metadata": {
        "colab": {
          "base_uri": "https://localhost:8080/",
          "height": 406
        },
        "id": "F7AbQozlEiO0",
        "outputId": "f6d1d7e8-5e1c-4c14-85ec-212f3d552832"
      },
      "execution_count": null,
      "outputs": [
        {
          "output_type": "display_data",
          "data": {
            "text/plain": [
              "<Figure size 640x480 with 1 Axes>"
            ],
            "image/png": "[encoded data removed]"
          },
          "metadata": {}
        }
      ]
    },
    {
      "cell_type": "markdown",
      "source": [
        "##Spatial Transformation L2 Norm Baseline"
      ],
      "metadata": {
        "id": "F9S71Kxu1uSA"
      }
    },
    {
      "cell_type": "code",
      "source": [
        "hingle_flag = 1\n",
        "ld_tv = 1.75\n",
        "ld_adv = 3.5\n",
        "\n",
        "num_classes = 10\n",
        "inception.fc = nn.Linear(inception.fc.in_features, 10)\n",
        "\n",
        "attack = stAdvAttack(model=inception,hingle_flag=hingle_flag, ld_tv=ld_tv, ld_adv=ld_adv)\n",
        "\n",
        "print(sample_image)\n",
        "sample_image = sample_image.to(device)\n",
        "inception.zero_grad()\n",
        "output = inception(sample_image)\n",
        "loss_value = F.cross_entropy(output, label)\n",
        "loss_value.backward()\n",
        "# print(loss_value)\n",
        "target_labels = np.zeros([1, num_classes], dtype = np.float32)\n",
        "target_labels[:, 0] = 1\n",
        "target_labels = torch.from_numpy(target_labels).cuda()\n",
        "spatial_data = attack.perturb(sample_image, target_labels)\n",
        "\n",
        "spatial_features = extract_features(spatial_data, modified_inception)\n",
        "\n",
        "l2_norm = np.linalg.norm(baseline_features.cpu() - spatial_features.cpu())\n",
        "# l2_norm = torch.norm(baseline_features.cpu() - spatial_features.cpu()).item()\n",
        "print(l2_norm)"
      ],
      "metadata": {
        "id": "RiXv270HCNcg",
        "colab": {
          "base_uri": "https://localhost:8080/"
        },
        "outputId": "11b04943-db39-485c-bb0d-08d16c18097d"
      },
      "execution_count": null,
      "outputs": [
        {
          "output_type": "stream",
          "name": "stdout",
          "text": [
            "tensor([[[[-1., -1., -1.,  ..., -1., -1., -1.],\n",
            "          [-1., -1., -1.,  ..., -1., -1., -1.],\n",
            "          [-1., -1., -1.,  ..., -1., -1., -1.],\n",
            "          ...,\n",
            "          [-1., -1., -1.,  ..., -1., -1., -1.],\n",
            "          [-1., -1., -1.,  ..., -1., -1., -1.],\n",
            "          [-1., -1., -1.,  ..., -1., -1., -1.]],\n",
            "\n",
            "         [[-1., -1., -1.,  ..., -1., -1., -1.],\n",
            "          [-1., -1., -1.,  ..., -1., -1., -1.],\n",
            "          [-1., -1., -1.,  ..., -1., -1., -1.],\n",
            "          ...,\n",
            "          [-1., -1., -1.,  ..., -1., -1., -1.],\n",
            "          [-1., -1., -1.,  ..., -1., -1., -1.],\n",
            "          [-1., -1., -1.,  ..., -1., -1., -1.]],\n",
            "\n",
            "         [[-1., -1., -1.,  ..., -1., -1., -1.],\n",
            "          [-1., -1., -1.,  ..., -1., -1., -1.],\n",
            "          [-1., -1., -1.,  ..., -1., -1., -1.],\n",
            "          ...,\n",
            "          [-1., -1., -1.,  ..., -1., -1., -1.],\n",
            "          [-1., -1., -1.,  ..., -1., -1., -1.],\n",
            "          [-1., -1., -1.,  ..., -1., -1., -1.]]]])\n",
            "tensor(2.4347, grad_fn=<AddBackward0>)\n"
          ]
        },
        {
          "output_type": "stream",
          "name": "stderr",
          "text": [
            "/usr/local/lib/python3.10/dist-packages/torch/nn/functional.py:4377: UserWarning: Default grid_sample and affine_grid behavior has changed to align_corners=False since 1.3.0. Please specify align_corners=True if the old behavior is desired. See the documentation of grid_sample for details.\n",
            "  warnings.warn(\n",
            "/usr/local/lib/python3.10/dist-packages/torch/nn/functional.py:4316: UserWarning: Default grid_sample and affine_grid behavior has changed to align_corners=False since 1.3.0. Please specify align_corners=True if the old behavior is desired. See the documentation of grid_sample for details.\n",
            "  warnings.warn(\n"
          ]
        },
        {
          "output_type": "stream",
          "name": "stdout",
          "text": [
            "tensor(2.4209, grad_fn=<AddBackward0>)\n",
            "tensor(2.3609, grad_fn=<AddBackward0>)\n",
            "tensor(2.3401, grad_fn=<AddBackward0>)\n",
            "tensor(2.2933, grad_fn=<AddBackward0>)\n",
            "tensor(2.2725, grad_fn=<AddBackward0>)\n",
            "tensor(2.1949, grad_fn=<AddBackward0>)\n",
            "tensor(2.1800, grad_fn=<AddBackward0>)\n",
            "tensor(2.1301, grad_fn=<AddBackward0>)\n",
            "tensor(2.1188, grad_fn=<AddBackward0>)\n",
            "tensor(2.0761, grad_fn=<AddBackward0>)\n",
            "tensor(1.8866, grad_fn=<AddBackward0>)\n",
            "tensor(1.8509, grad_fn=<AddBackward0>)\n",
            "tensor(1.7016, grad_fn=<AddBackward0>)\n",
            "tensor(1.6581, grad_fn=<AddBackward0>)\n",
            "tensor(1.5815, grad_fn=<AddBackward0>)\n",
            "tensor(1.5565, grad_fn=<AddBackward0>)\n",
            "tensor(1.5504, grad_fn=<AddBackward0>)\n",
            "tensor(1.5289, grad_fn=<AddBackward0>)\n",
            "tensor(1.5156, grad_fn=<AddBackward0>)\n",
            "tensor(1.4589, grad_fn=<AddBackward0>)\n",
            "tensor(1.4416, grad_fn=<AddBackward0>)\n",
            "tensor(1.3700, grad_fn=<AddBackward0>)\n",
            "tensor(1.3512, grad_fn=<AddBackward0>)\n",
            "tensor(1.2750, grad_fn=<AddBackward0>)\n",
            "tensor(1.2540, grad_fn=<AddBackward0>)\n",
            "tensor(1.2123, grad_fn=<AddBackward0>)\n",
            "tensor(1.2084, grad_fn=<AddBackward0>)\n",
            "tensor(1.1915, grad_fn=<AddBackward0>)\n",
            "tensor(1.1390, grad_fn=<AddBackward0>)\n",
            "tensor(1.1224, grad_fn=<AddBackward0>)\n",
            "tensor(1.0428, grad_fn=<AddBackward0>)\n",
            "tensor(1.0154, grad_fn=<AddBackward0>)\n",
            "tensor(1.0126, grad_fn=<AddBackward0>)\n",
            "tensor(1.0057, grad_fn=<AddBackward0>)\n",
            "tensor(1.0014, grad_fn=<AddBackward0>)\n",
            "tensor(0.9837, grad_fn=<AddBackward0>)\n",
            "tensor(0.9780, grad_fn=<AddBackward0>)\n",
            "tensor(0.9431, grad_fn=<AddBackward0>)\n",
            "tensor(0.9384, grad_fn=<AddBackward0>)\n",
            "tensor(0.9192, grad_fn=<AddBackward0>)\n",
            "tensor(0.9098, grad_fn=<AddBackward0>)\n",
            "tensor(0.9044, grad_fn=<AddBackward0>)\n",
            "tensor(0.8914, grad_fn=<AddBackward0>)\n",
            "tensor(0.8854, grad_fn=<AddBackward0>)\n",
            "tensor(0.8599, grad_fn=<AddBackward0>)\n",
            "tensor(0.8425, grad_fn=<AddBackward0>)\n",
            "tensor(0.7914, grad_fn=<AddBackward0>)\n",
            "tensor(0.7831, grad_fn=<AddBackward0>)\n",
            "tensor(0.7498, grad_fn=<AddBackward0>)\n",
            "tensor(0.7451, grad_fn=<AddBackward0>)\n",
            "tensor(0.7237, grad_fn=<AddBackward0>)\n",
            "tensor(0.6440, grad_fn=<AddBackward0>)\n",
            "tensor(0.6347, grad_fn=<AddBackward0>)\n",
            "tensor(0.5888, grad_fn=<AddBackward0>)\n",
            "tensor(0.5868, grad_fn=<AddBackward0>)\n",
            "tensor(0.5783, grad_fn=<AddBackward0>)\n",
            "tensor(0.5725, grad_fn=<AddBackward0>)\n",
            "tensor(0.5485, grad_fn=<AddBackward0>)\n",
            "tensor(0.5402, grad_fn=<AddBackward0>)\n",
            "tensor(0.5080, grad_fn=<AddBackward0>)\n",
            "tensor(0.5028, grad_fn=<AddBackward0>)\n",
            "tensor(0.4765, grad_fn=<AddBackward0>)\n",
            "tensor(0.4648, grad_fn=<AddBackward0>)\n",
            "tensor(0.4583, grad_fn=<AddBackward0>)\n",
            "tensor(0.4322, grad_fn=<AddBackward0>)\n",
            "tensor(0.4242, grad_fn=<AddBackward0>)\n",
            "tensor(0.3928, grad_fn=<AddBackward0>)\n",
            "tensor(0.3846, grad_fn=<AddBackward0>)\n",
            "tensor(0.3504, grad_fn=<AddBackward0>)\n",
            "tensor(0.3383, grad_fn=<AddBackward0>)\n",
            "tensor(0.3336, grad_fn=<AddBackward0>)\n",
            "tensor(0.3138, grad_fn=<AddBackward0>)\n",
            "tensor(0.3023, grad_fn=<AddBackward0>)\n",
            "tensor(0.2642, grad_fn=<AddBackward0>)\n",
            "tensor(0.2605, grad_fn=<AddBackward0>)\n",
            "tensor(0.2382, grad_fn=<AddBackward0>)\n",
            "tensor(0.2277, grad_fn=<AddBackward0>)\n",
            "tensor(0.2034, grad_fn=<AddBackward0>)\n",
            "tensor(0.1927, grad_fn=<AddBackward0>)\n",
            "tensor(0.1607, grad_fn=<AddBackward0>)\n",
            "tensor(0.1579, grad_fn=<AddBackward0>)\n",
            "tensor(0.1461, grad_fn=<AddBackward0>)\n",
            "tensor(0.0958, grad_fn=<AddBackward0>)\n",
            "tensor(0.0922, grad_fn=<AddBackward0>)\n",
            "tensor(0.0821, grad_fn=<AddBackward0>)\n",
            "tensor(0.0716, grad_fn=<AddBackward0>)\n",
            "tensor(0.0698, grad_fn=<AddBackward0>)\n",
            "tensor(0.0599, grad_fn=<AddBackward0>)\n",
            "tensor(0.0256, grad_fn=<AddBackward0>)\n",
            "tensor(0.0243, grad_fn=<AddBackward0>)\n",
            "tensor(0.0188, grad_fn=<AddBackward0>)\n",
            "tensor(0.0127, grad_fn=<AddBackward0>)\n",
            "tensor(0.0006, grad_fn=<AddBackward0>)\n",
            "tensor(0.0006, grad_fn=<AddBackward0>)\n",
            "tensor(0.0006, grad_fn=<AddBackward0>)\n",
            "tensor(0.0006, grad_fn=<AddBackward0>)\n",
            "tensor(0.0006, grad_fn=<AddBackward0>)\n",
            "tensor(0.0006, grad_fn=<AddBackward0>)\n",
            "tensor(0.0006, grad_fn=<AddBackward0>)\n",
            "tensor(0.0078, grad_fn=<AddBackward0>)\n",
            "tensor(0.0006, grad_fn=<AddBackward0>)\n",
            "tensor(0.0006, grad_fn=<AddBackward0>)\n",
            "tensor(0.0006, grad_fn=<AddBackward0>)\n",
            "tensor(0.0006, grad_fn=<AddBackward0>)\n",
            "tensor(0.0006, grad_fn=<AddBackward0>)\n",
            "tensor(0.0008, grad_fn=<AddBackward0>)\n",
            "tensor(0.0006, grad_fn=<AddBackward0>)\n",
            "tensor(0.0006, grad_fn=<AddBackward0>)\n",
            "tensor(0.0006, grad_fn=<AddBackward0>)\n",
            "tensor(0.0006, grad_fn=<AddBackward0>)\n",
            "tensor(0.0006, grad_fn=<AddBackward0>)\n",
            "tensor(0.0006, grad_fn=<AddBackward0>)\n",
            "tensor(0.0006, grad_fn=<AddBackward0>)\n",
            "tensor(0.0006, grad_fn=<AddBackward0>)\n",
            "tensor(0.0006, grad_fn=<AddBackward0>)\n",
            "tensor(0.0006, grad_fn=<AddBackward0>)\n",
            "tensor(0.0006, grad_fn=<AddBackward0>)\n",
            "tensor(0.0006, grad_fn=<AddBackward0>)\n",
            "tensor(0.0006, grad_fn=<AddBackward0>)\n",
            "tensor(2.3910, grad_fn=<AddBackward0>)\n",
            "tensor(0.0006, grad_fn=<AddBackward0>)\n",
            "tensor(0.0722, grad_fn=<AddBackward0>)\n",
            "tensor(0.0006, grad_fn=<AddBackward0>)\n",
            "tensor(0.0054, grad_fn=<AddBackward0>)\n",
            "tensor(0.0006, grad_fn=<AddBackward0>)\n",
            "tensor(0.0011, grad_fn=<AddBackward0>)\n",
            "tensor(0.0006, grad_fn=<AddBackward0>)\n",
            "tensor(0.0007, grad_fn=<AddBackward0>)\n",
            "tensor(0.0006, grad_fn=<AddBackward0>)\n",
            "tensor(2.3912, grad_fn=<AddBackward0>)\n",
            "tensor(0.0007, grad_fn=<AddBackward0>)\n",
            "tensor(0.0006, grad_fn=<AddBackward0>)\n",
            "tensor(0.0006, grad_fn=<AddBackward0>)\n",
            "tensor(0.0006, grad_fn=<AddBackward0>)\n",
            "tensor(0.0006, grad_fn=<AddBackward0>)\n",
            "tensor(2.3912, grad_fn=<AddBackward0>)\n",
            "tensor(0.0007, grad_fn=<AddBackward0>)\n",
            "tensor(0.0006, grad_fn=<AddBackward0>)\n",
            "tensor(0.0006, grad_fn=<AddBackward0>)\n",
            "tensor(2.3913, grad_fn=<AddBackward0>)\n",
            "tensor(0.0007, grad_fn=<AddBackward0>)\n",
            "tensor(0.0006, grad_fn=<AddBackward0>)\n",
            "tensor(0.0006, grad_fn=<AddBackward0>)\n",
            "tensor(2.3913, grad_fn=<AddBackward0>)\n",
            "tensor(0.0007, grad_fn=<AddBackward0>)\n",
            "tensor(0.0006, grad_fn=<AddBackward0>)\n",
            "tensor(0.0006, grad_fn=<AddBackward0>)\n",
            "tensor(2.3913, grad_fn=<AddBackward0>)\n",
            "tensor(0.0007, grad_fn=<AddBackward0>)\n",
            "tensor(0.0006, grad_fn=<AddBackward0>)\n",
            "tensor(0.0006, grad_fn=<AddBackward0>)\n",
            "4.618874\n"
          ]
        }
      ]
    },
    {
      "cell_type": "code",
      "source": [
        "\n",
        "\n",
        "# Convert the tensor image to a numpy array and transpose it to (H, W, C) format\n",
        "image_np = spatial_data.cpu().detach().squeeze().permute(1, 2, 0).numpy()\n",
        "\n",
        "# Reverse normalization to display the image properly\n",
        "# mean = [0.5, 0.5, 0.5]\n",
        "# std = [0.5, 0.5, 0.5]\n",
        "# image_np = std * image_np + mean\n",
        "# image_np = np.clip(image_np, 0, 1)\n",
        "\n",
        "# Plot the image\n",
        "plt.imshow(image_np)\n",
        "plt.axis('off')\n",
        "plt.show()\n",
        "print(target_labels)"
      ],
      "metadata": {
        "colab": {
          "base_uri": "https://localhost:8080/",
          "height": 441
        },
        "id": "zXH8nGE05aP2",
        "outputId": "a2c29c6d-b505-469c-96a9-90436df52817"
      },
      "execution_count": null,
      "outputs": [
        {
          "output_type": "stream",
          "name": "stderr",
          "text": [
            "WARNING:matplotlib.image:Clipping input data to the valid range for imshow with RGB data ([0..1] for floats or [0..255] for integers).\n"
          ]
        },
        {
          "output_type": "display_data",
          "data": {
            "text/plain": [
              "<Figure size 640x480 with 1 Axes>"
            ],
            "image/png": "[encoded data removed]"
          },
          "metadata": {}
        },
        {
          "output_type": "stream",
          "name": "stdout",
          "text": [
            "tensor([[1., 0., 0., 0., 0., 0., 0., 0., 0., 0.]])\n"
          ]
        }
      ]
    },
    {
      "cell_type": "markdown",
      "source": [
        "#VGG Training MNIST"
      ],
      "metadata": {
        "id": "6jaO1bj7DBKn"
      }
    },
    {
      "cell_type": "code",
      "source": [
        "# transform = transforms.Compose([\n",
        "#     transforms.Resize((224,224)),  # Resize to match ResNet input size\n",
        "#     transforms.Grayscale(num_output_channels=3),  # Convert to 3 channels\n",
        "#     transforms.ToTensor(),\n",
        "#     transforms.Normalize(mean=[0.485, 0.456, 0.406], std=[0.229, 0.224, 0.225])\n",
        "# ])\n",
        "\n",
        "transform = transforms.Compose([\n",
        "        transforms.RandomCrop(32, padding=4),\n",
        "        transforms.RandomHorizontalFlip(),\n",
        "        transforms.ToTensor(),\n",
        "        transforms.Normalize((0.4914, 0.4822, 0.4465), (0.2023, 0.1994, 0.2010)),\n",
        "        ])\n",
        "\n",
        "train = datasets.CIFAR10(root=\"./data\", train = True, download=True, transform= transform)\n",
        "test = datasets.CIFAR10(root=\"./data\", train = False, download=True, transform= transform)\n",
        "trainData = torch.utils.data.DataLoader(train, batch_size=64, shuffle=True, generator=torch.Generator(device))\n",
        "testData = torch.utils.data.DataLoader(test, batch_size=64, shuffle=False, generator=torch.Generator(device))\n",
        "\n",
        "vgg = models.vgg16(pretrained=True).to(device)\n",
        "num_features = vgg.classifier[6].in_features\n",
        "vgg.classifier[6] = nn.Linear(num_features, 10)\n",
        "vgg.eval()\n",
        "criterion = nn.CrossEntropyLoss()\n",
        "optimizer = optim.SGD(vgg.parameters(), lr=0.001, momentum=0.9)"
      ],
      "metadata": {
        "colab": {
          "base_uri": "https://localhost:8080/"
        },
        "id": "LvM-Oym11j8f",
        "outputId": "5c03097f-528d-46e9-bdcc-1094b4823211"
      },
      "execution_count": null,
      "outputs": [
        {
          "output_type": "stream",
          "name": "stdout",
          "text": [
            "Files already downloaded and verified\n",
            "Files already downloaded and verified\n"
          ]
        },
        {
          "output_type": "stream",
          "name": "stderr",
          "text": [
            "/usr/local/lib/python3.10/dist-packages/torchvision/models/_utils.py:208: UserWarning: The parameter 'pretrained' is deprecated since 0.13 and may be removed in the future, please use 'weights' instead.\n",
            "  warnings.warn(\n",
            "/usr/local/lib/python3.10/dist-packages/torchvision/models/_utils.py:223: UserWarning: Arguments other than a weight enum or `None` for 'weights' are deprecated since 0.13 and may be removed in the future. The current behavior is equivalent to passing `weights=VGG16_Weights.IMAGENET1K_V1`. You can also use `weights=VGG16_Weights.DEFAULT` to get the most up-to-date weights.\n",
            "  warnings.warn(msg)\n"
          ]
        }
      ]
    },
    {
      "cell_type": "code",
      "source": [
        "print('Training....')\n",
        "total = 0\n",
        "correct = 0\n",
        "vgg.eval()\n",
        "\n",
        "for epoch in range(5):\n",
        "    for i, data in enumerate(trainData, 1):\n",
        "        images, labels = data\n",
        "\n",
        "        if(torch.cuda.is_available()):\n",
        "            images = images.cuda()\n",
        "            labels = labels.cuda()\n",
        "\n",
        "        # Zero the parameter gradients\n",
        "        optimizer.zero_grad()\n",
        "\n",
        "        # Forward + backward + optimize\n",
        "        outputs = vgg(images)\n",
        "\n",
        "        _, predicted = torch.max(outputs.data, 1)\n",
        "        total += labels.size(0)\n",
        "        correct += (predicted == labels).sum().item()\n",
        "\n",
        "        loss = criterion(outputs, labels)\n",
        "        if(i%100 == 0):\n",
        "            print('Epoch: {} Batch: {} loss: {}'.format(epoch, i, loss.item()))\n",
        "\n",
        "        loss.backward()\n",
        "        optimizer.step()\n",
        "\n",
        "\n",
        "print('Training accuracy: {} %'.format((correct/total)*100))"
      ],
      "metadata": {
        "colab": {
          "base_uri": "https://localhost:8080/"
        },
        "id": "1wiuCxxf2RJ5",
        "outputId": "2f6a0c12-d9a7-40d3-a461-c5dd4e70e08d"
      },
      "execution_count": null,
      "outputs": [
        {
          "output_type": "stream",
          "name": "stdout",
          "text": [
            "Training....\n",
            "Epoch: 0 Batch: 100 loss: 0.9978318810462952\n",
            "Epoch: 0 Batch: 200 loss: 1.0150480270385742\n",
            "Epoch: 0 Batch: 300 loss: 0.6478760838508606\n",
            "Epoch: 0 Batch: 400 loss: 0.7014927864074707\n",
            "Epoch: 0 Batch: 500 loss: 0.7224909663200378\n",
            "Epoch: 0 Batch: 600 loss: 0.513708233833313\n",
            "Epoch: 0 Batch: 700 loss: 0.5779485702514648\n",
            "Epoch: 1 Batch: 100 loss: 0.3945143222808838\n",
            "Epoch: 1 Batch: 200 loss: 0.47037914395332336\n",
            "Epoch: 1 Batch: 300 loss: 0.6665573716163635\n",
            "Epoch: 1 Batch: 400 loss: 0.6191707849502563\n",
            "Epoch: 1 Batch: 500 loss: 0.285286545753479\n",
            "Epoch: 1 Batch: 600 loss: 0.5196205377578735\n",
            "Epoch: 1 Batch: 700 loss: 0.2836129069328308\n",
            "Epoch: 2 Batch: 100 loss: 0.3812943994998932\n",
            "Epoch: 2 Batch: 200 loss: 0.44466471672058105\n",
            "Epoch: 2 Batch: 300 loss: 0.4815536141395569\n",
            "Epoch: 2 Batch: 400 loss: 0.5336852669715881\n",
            "Epoch: 2 Batch: 500 loss: 0.3264786899089813\n",
            "Epoch: 2 Batch: 600 loss: 0.6629942655563354\n",
            "Epoch: 2 Batch: 700 loss: 0.4596230089664459\n",
            "Epoch: 3 Batch: 100 loss: 0.318703293800354\n",
            "Epoch: 3 Batch: 200 loss: 0.4429706633090973\n",
            "Epoch: 3 Batch: 300 loss: 0.4936898648738861\n",
            "Epoch: 3 Batch: 400 loss: 0.4630119204521179\n",
            "Epoch: 3 Batch: 500 loss: 0.3507387638092041\n",
            "Epoch: 3 Batch: 600 loss: 0.3569360673427582\n",
            "Epoch: 3 Batch: 700 loss: 0.30091381072998047\n",
            "Epoch: 4 Batch: 100 loss: 0.5652358531951904\n",
            "Epoch: 4 Batch: 200 loss: 0.3226250410079956\n",
            "Epoch: 4 Batch: 300 loss: 0.3360392153263092\n",
            "Epoch: 4 Batch: 400 loss: 0.2895629405975342\n",
            "Epoch: 4 Batch: 500 loss: 0.4496552646160126\n",
            "Epoch: 4 Batch: 600 loss: 0.34113335609436035\n",
            "Epoch: 4 Batch: 700 loss: 0.43914952874183655\n",
            "Training accuracy: 82.97 %\n"
          ]
        }
      ]
    },
    {
      "cell_type": "code",
      "source": [
        "total = 0\n",
        "correct = 0\n",
        "for i, data in enumerate(testData, 1):\n",
        "        images, labels = data\n",
        "\n",
        "        if(torch.cuda.is_available()):\n",
        "            images = images.cuda()\n",
        "            labels = labels.cuda()\n",
        "        outputs = vgg(images)\n",
        "\n",
        "        _, predicted = torch.max(outputs.data, 1)\n",
        "        total += labels.size(0)\n",
        "        correct += (predicted == labels).sum().item()\n",
        "print('Training accuracy: {} %'.format((correct/total)*100))"
      ],
      "metadata": {
        "colab": {
          "base_uri": "https://localhost:8080/"
        },
        "id": "vWUlVCA179ZB",
        "outputId": "2b7d4a84-5600-44d9-b70f-46bed0265f58"
      },
      "execution_count": null,
      "outputs": [
        {
          "output_type": "stream",
          "name": "stdout",
          "text": [
            "Training accuracy: 86.79 %\n"
          ]
        }
      ]
    },
    {
      "cell_type": "code",
      "source": [
        "torch.save(vgg.state_dict(), 'vgg_MNIST.pth')"
      ],
      "metadata": {
        "id": "qNy-9wrF8QbI"
      },
      "execution_count": null,
      "outputs": []
    },
    {
      "cell_type": "markdown",
      "source": [
        "## FGSM on VGG"
      ],
      "metadata": {
        "id": "Gkaj87lXExvc"
      }
    },
    {
      "cell_type": "code",
      "source": [
        "# Load MNIST dataset\n",
        "num_images = 100\n",
        "subset_sampler =  torch.utils.data.SubsetRandomSampler(range(num_images))\n",
        "\n",
        "# Create a DataLoader with the subset sampler\n",
        "perturbed_test = torch.utils.data.DataLoader(test, batch_size=1, sampler=subset_sampler, generator=torch.Generator(device))\n",
        "correct = 0\n",
        "total = 0\n",
        "epsilon = 0.5\n",
        "array = [0.1,0.3,0.5]\n",
        "for element in array:\n",
        "  epsilon = element\n",
        "  for data in perturbed_test:\n",
        "    X, y = data\n",
        "    X = X.to(device)\n",
        "    X.requires_grad = True\n",
        "    vgg.zero_grad()\n",
        "    cnnOut = vgg(X)\n",
        "    loss = F.cross_entropy(cnnOut, y)\n",
        "    loss.backward()\n",
        "    perturbed_data = fgsm_attack(X, epsilon, X.grad.data)\n",
        "    output = vgg(perturbed_data)\n",
        "    for index, i in enumerate(output):\n",
        "      if torch.argmax(i) == y[index]:\n",
        "        correct += 1\n",
        "      total += 1\n",
        "  print(f'Epilson: {epsilon}')\n",
        "  print(f'Predicting Accuracy: {correct / total}')"
      ],
      "metadata": {
        "colab": {
          "base_uri": "https://localhost:8080/"
        },
        "id": "c4PWH_8Q8n8s",
        "outputId": "c82d8521-ffcb-4a92-b905-b0d3d903cb42"
      },
      "execution_count": null,
      "outputs": [
        {
          "output_type": "stream",
          "name": "stdout",
          "text": [
            "Epilson: 0.1\n",
            "Predicting Accuracy: 0.23\n",
            "Epilson: 0.3\n",
            "Predicting Accuracy: 0.22\n",
            "Epilson: 0.5\n",
            "Predicting Accuracy: 0.20666666666666667\n"
          ]
        }
      ]
    },
    {
      "cell_type": "markdown",
      "source": [
        "##Spatial Attack on VGG"
      ],
      "metadata": {
        "id": "DQM-MgBtEzn5"
      }
    },
    {
      "cell_type": "code",
      "source": [
        "transform = transforms.Compose([\n",
        "    transforms.Resize(224),  # Resize to match ResNet input size\n",
        "    transforms.Grayscale(num_output_channels=3),  # Convert to 3 channels\n",
        "    transforms.ToTensor(),\n",
        "    transforms.Normalize(mean=[0.485, 0.456, 0.406], std=[0.229, 0.224, 0.225]),\n",
        "])\n",
        "\n",
        "# Load MNIST dataset\n",
        "num_images = 100\n",
        "subset_sampler =  torch.utils.data.SubsetRandomSampler(range(num_images))\n",
        "\n",
        "# Create a DataLoader with the subset sampler\n",
        "spatial_test = torch.utils.data.DataLoader(test, batch_size=1, sampler=subset_sampler, generator=torch.Generator(device))\n",
        "# spatial_test = torch.utils.data.DataLoader(mnist_dataset, batch_size=10, shuffle=True, generator=torch.Generator(device))\n",
        "print(len(spatial_test))\n",
        "\n",
        "num_classes=10\n",
        "hingle_flag = 1\n",
        "ld_tv_arr = [.14,.3,1.75]\n",
        "ld_adv_arr = [.6,1,3.5]\n",
        "for i in range(1):\n",
        "  ld_tv = 1.75\n",
        "  ld_adv = 3.5\n",
        "  attack = stAdvAttack(model=vgg,hingle_flag=hingle_flag, ld_tv=ld_tv, ld_adv=ld_adv)\n",
        "\n",
        "  correct = 0\n",
        "  total = 0\n",
        "  for data in spatial_test:\n",
        "    X, y = data\n",
        "    X = X.to(device)\n",
        "    vgg.zero_grad()\n",
        "    cnnOut = vgg(X)\n",
        "    loss = F.cross_entropy(cnnOut, y)\n",
        "    loss.backward()\n",
        "    target_labels = np.zeros([1, num_classes], dtype = np.float32)\n",
        "    target_labels[:, 0] = 1\n",
        "    target_labels = torch.from_numpy(target_labels).cuda()\n",
        "    perturbed_data = attack.perturb(X, target_labels)\n",
        "    output = vgg(perturbed_data)\n",
        "    for index, i in enumerate(output):\n",
        "      if torch.argmax(i) == y[index]:\n",
        "        correct += 1\n",
        "      total += 1\n",
        "  print(f'LD_TV: {ld_tv} LD_ADV: {ld_adv}')\n",
        "  print(f'Predicting Accuracy: {correct / total}')"
      ],
      "metadata": {
        "colab": {
          "base_uri": "https://localhost:8080/"
        },
        "id": "UGBuK-Sl8i5Z",
        "outputId": "69ed038f-49c2-4dd3-a1f4-fd13d829d6e6"
      },
      "execution_count": null,
      "outputs": [
        {
          "output_type": "stream",
          "name": "stdout",
          "text": [
            "100\n",
            "LD_TV: 1.75 LD_ADV: 3.5\n",
            "Predicting Accuracy: 0.11\n"
          ]
        }
      ]
    },
    {
      "cell_type": "markdown",
      "source": [
        "##Feature Extration"
      ],
      "metadata": {
        "id": "erVYu8Q1EZXK"
      }
    }
  ],
  "metadata": {
    "colab": {
      "provenance": [],
      "gpuType": "T4",
      "toc_visible": true,
      "collapsed_sections": [
        "cjmeY717PFfg",
        "s0Gf9DvCRCUS",
        "AmT-3mLkUPGZ"
      ]
    },
    "kernelspec": {
      "display_name": "Python 3",
      "name": "python3"
    },
    "accelerator": "GPU"
  },
  "nbformat": 4,
  "nbformat_minor": 0
}